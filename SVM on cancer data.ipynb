{
 "cells": [
  {
   "cell_type": "code",
   "execution_count": 1,
   "metadata": {},
   "outputs": [],
   "source": [
    "# SVM on cancer data\n",
    "# %load SVM on cancer data.py\n",
    "#import necessary modules\n",
    "import pandas as pd\n",
    "from sklearn.metrics import accuracy_score, confusion_matrix\n",
    "from sklearn.model_selection import train_test_split\n",
    "#can also import from cross_validation\n",
    "from sklearn.datasets import load_breast_cancer\n",
    "\n",
    "#specify dataset\n",
    "cancer=load_breast_cancer()"
   ]
  },
  {
   "cell_type": "code",
   "execution_count": 2,
   "metadata": {},
   "outputs": [
    {
     "name": "stderr",
     "output_type": "stream",
     "text": [
      "/Users/wiik/anaconda3/lib/python3.7/site-packages/sklearn/svm/base.py:922: ConvergenceWarning: Liblinear failed to converge, increase the number of iterations.\n",
      "  \"the number of iterations.\", ConvergenceWarning)\n"
     ]
    }
   ],
   "source": [
    "#Choose and import the model family from scikit-learn\n",
    "from sklearn.svm import LinearSVC\n",
    "\n",
    "#split training and test data. \n",
    "X_train, X_test, y_train, y_test = train_test_split(\n",
    "    cancer.data, cancer.target, stratify=cancer.target, random_state=42)\n",
    "\n",
    "#train the model using default options. Note method chaining in first option\n",
    "#y_model = LinearSVC().fit(X_train, y_train).predict(X_test) #. Review volatility in random seed\n",
    "#svm = LinearSVC(random_state = 1).fit(X_train, y_train)\n",
    "svm = LinearSVC(random_state = 20).fit(X_train, y_train)"
   ]
  },
  {
   "cell_type": "code",
   "execution_count": 3,
   "metadata": {},
   "outputs": [
    {
     "name": "stdout",
     "output_type": "stream",
     "text": [
      "0.9300699300699301\n",
      "[[44  9]\n",
      " [ 1 89]]\n",
      "0.9300699300699301\n",
      "[[43 10]\n",
      " [ 0 90]]\n"
     ]
    },
    {
     "name": "stderr",
     "output_type": "stream",
     "text": [
      "/Users/wiik/anaconda3/lib/python3.7/site-packages/sklearn/svm/base.py:922: ConvergenceWarning: Liblinear failed to converge, increase the number of iterations.\n",
      "  \"the number of iterations.\", ConvergenceWarning)\n"
     ]
    }
   ],
   "source": [
    "#assess the model based on test data performance\n",
    "y_model = svm.predict(X_test)\n",
    "svm.score(X_train, y_train)\n",
    "print(accuracy_score(y_test, y_model))\n",
    "print(confusion_matrix(y_test, y_model))\n",
    "\n",
    "#Thanks to Muller and Guido, 2017\n",
    "#Note susceptibility to random_state; switch from 42 to 2017 and re-execute\n",
    "\n",
    "#re-execute. What parameters might you change to improve the results?\n",
    "svm = LinearSVC(random_state = 1, loss = \"hinge\").fit(X_train, y_train)\n",
    "y_model = svm.predict(X_test)\n",
    "svm.score(X_train, y_train)\n",
    "print(accuracy_score(y_test, y_model))\n",
    "print(confusion_matrix(y_test, y_model))"
   ]
  },
  {
   "cell_type": "code",
   "execution_count": null,
   "metadata": {},
   "outputs": [],
   "source": []
  }
 ],
 "metadata": {
  "kernelspec": {
   "display_name": "Python 3",
   "language": "python",
   "name": "python3"
  },
  "language_info": {
   "codemirror_mode": {
    "name": "ipython",
    "version": 3
   },
   "file_extension": ".py",
   "mimetype": "text/x-python",
   "name": "python",
   "nbconvert_exporter": "python",
   "pygments_lexer": "ipython3",
   "version": "3.7.1"
  }
 },
 "nbformat": 4,
 "nbformat_minor": 2
}
